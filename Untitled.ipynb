{
 "cells": [
  {
   "cell_type": "code",
   "execution_count": 9,
   "id": "ad7d1001-bb90-4cf9-bdb4-621e780651ba",
   "metadata": {},
   "outputs": [],
   "source": [
    "list_haha = [1,7,9,9999]"
   ]
  },
  {
   "cell_type": "code",
   "execution_count": 10,
   "id": "18bdf0a8-0f11-4153-962e-72c0352d6ece",
   "metadata": {},
   "outputs": [],
   "source": [
    "list_moz= list_haha.copy()"
   ]
  },
  {
   "cell_type": "code",
   "execution_count": 11,
   "id": "ec682a5f-8556-4fbb-a6e6-21a4e1adf622",
   "metadata": {},
   "outputs": [
    {
     "data": {
      "text/plain": [
       "True"
      ]
     },
     "execution_count": 11,
     "metadata": {},
     "output_type": "execute_result"
    }
   ],
   "source": [
    "list_moz == list_haha"
   ]
  },
  {
   "cell_type": "code",
   "execution_count": 12,
   "id": "af40832a-9fab-40cf-be5d-d82f4b566af9",
   "metadata": {},
   "outputs": [
    {
     "data": {
      "text/plain": [
       "False"
      ]
     },
     "execution_count": 12,
     "metadata": {},
     "output_type": "execute_result"
    }
   ],
   "source": [
    "list_moz is list_haha"
   ]
  },
  {
   "cell_type": "code",
   "execution_count": 20,
   "id": "81f1b76d-2aff-4799-b620-09b51ef371b8",
   "metadata": {},
   "outputs": [],
   "source": [
    "list_haha.append (55)"
   ]
  },
  {
   "cell_type": "code",
   "execution_count": 21,
   "id": "3de9f115-7ff1-4f80-835a-6c9fece436a2",
   "metadata": {},
   "outputs": [
    {
     "data": {
      "text/plain": [
       "[1, 7, 9, 9999, 55, 55, 55, 55, 55]"
      ]
     },
     "execution_count": 21,
     "metadata": {},
     "output_type": "execute_result"
    }
   ],
   "source": [
    "list_haha"
   ]
  },
  {
   "cell_type": "code",
   "execution_count": 23,
   "id": "6d107b76-614c-4d8c-98dc-c6f8fe599d5a",
   "metadata": {},
   "outputs": [
    {
     "data": {
      "text/plain": [
       "5"
      ]
     },
     "execution_count": 23,
     "metadata": {},
     "output_type": "execute_result"
    }
   ],
   "source": [
    "list_haha.count(55)"
   ]
  },
  {
   "cell_type": "code",
   "execution_count": 28,
   "id": "c6bc5fb0-8b69-465b-806f-e1ba43e73fa4",
   "metadata": {},
   "outputs": [
    {
     "data": {
      "text/plain": [
       "4"
      ]
     },
     "execution_count": 28,
     "metadata": {},
     "output_type": "execute_result"
    }
   ],
   "source": [
    "list_haha.index(55)"
   ]
  },
  {
   "cell_type": "code",
   "execution_count": 32,
   "id": "463bc659-efac-4055-ba37-295bb011dafd",
   "metadata": {},
   "outputs": [],
   "source": [
    "list_haha.insert(4,120)"
   ]
  },
  {
   "cell_type": "code",
   "execution_count": 33,
   "id": "36d56060-4a06-4bb6-807a-adfc9ccb6066",
   "metadata": {},
   "outputs": [
    {
     "data": {
      "text/plain": [
       "[1, 7, 9, 9999, 120, 55, 55, 55, 55, 55]"
      ]
     },
     "execution_count": 33,
     "metadata": {},
     "output_type": "execute_result"
    }
   ],
   "source": [
    "list_haha"
   ]
  },
  {
   "cell_type": "code",
   "execution_count": 34,
   "id": "bdbdf54e-578e-4860-ae4a-622311932f0c",
   "metadata": {},
   "outputs": [],
   "source": [
    "list_haha.sort()"
   ]
  },
  {
   "cell_type": "code",
   "execution_count": 35,
   "id": "4fd8bfdd-a611-4748-8a56-5d8be75d47ba",
   "metadata": {},
   "outputs": [
    {
     "data": {
      "text/plain": [
       "[1, 7, 9, 55, 55, 55, 55, 55, 120, 9999]"
      ]
     },
     "execution_count": 35,
     "metadata": {},
     "output_type": "execute_result"
    }
   ],
   "source": [
    "list_haha"
   ]
  },
  {
   "cell_type": "code",
   "execution_count": 36,
   "id": "e9e2c8b3-04c9-4e0e-a842-d37428434532",
   "metadata": {},
   "outputs": [],
   "source": [
    "list_haha.reverse()"
   ]
  },
  {
   "cell_type": "code",
   "execution_count": 37,
   "id": "b628884c-4cc4-4c0f-bae1-da9d76366e84",
   "metadata": {},
   "outputs": [
    {
     "data": {
      "text/plain": [
       "[9999, 120, 55, 55, 55, 55, 55, 9, 7, 1]"
      ]
     },
     "execution_count": 37,
     "metadata": {},
     "output_type": "execute_result"
    }
   ],
   "source": [
    "list_haha"
   ]
  },
  {
   "cell_type": "code",
   "execution_count": 38,
   "id": "f70ee94c-c4fb-4994-9abe-603bf5ca80cf",
   "metadata": {},
   "outputs": [
    {
     "data": {
      "text/plain": [
       "1"
      ]
     },
     "execution_count": 38,
     "metadata": {},
     "output_type": "execute_result"
    }
   ],
   "source": [
    "list_haha.pop()"
   ]
  },
  {
   "cell_type": "code",
   "execution_count": 39,
   "id": "795cde94-761a-4351-abba-57f3da39b3d3",
   "metadata": {},
   "outputs": [
    {
     "data": {
      "text/plain": [
       "[9999, 120, 55, 55, 55, 55, 55, 9, 7]"
      ]
     },
     "execution_count": 39,
     "metadata": {},
     "output_type": "execute_result"
    }
   ],
   "source": [
    "list_haha"
   ]
  },
  {
   "cell_type": "code",
   "execution_count": 46,
   "id": "47547f55-1741-4089-8389-7b1bc362b8c6",
   "metadata": {},
   "outputs": [
    {
     "data": {
      "text/plain": [
       "120"
      ]
     },
     "execution_count": 46,
     "metadata": {},
     "output_type": "execute_result"
    }
   ],
   "source": [
    "list_haha.pop(1)"
   ]
  },
  {
   "cell_type": "code",
   "execution_count": 47,
   "id": "39a27f99-c957-4e67-bf7d-d7b4bda8a904",
   "metadata": {},
   "outputs": [
    {
     "data": {
      "text/plain": [
       "[9999, 55, 55, 55, 55, 55, 9, 7]"
      ]
     },
     "execution_count": 47,
     "metadata": {},
     "output_type": "execute_result"
    }
   ],
   "source": [
    "list_haha"
   ]
  },
  {
   "cell_type": "code",
   "execution_count": 48,
   "id": "ef1c8819-028f-449f-8317-08e9b217cc38",
   "metadata": {},
   "outputs": [],
   "source": [
    "list_haha.remove(55)"
   ]
  },
  {
   "cell_type": "code",
   "execution_count": 49,
   "id": "a6b5bfd6-f203-4ec7-bb4e-871e23519068",
   "metadata": {},
   "outputs": [
    {
     "data": {
      "text/plain": [
       "[9999, 55, 55, 55, 55, 9, 7]"
      ]
     },
     "execution_count": 49,
     "metadata": {},
     "output_type": "execute_result"
    }
   ],
   "source": [
    "list_haha"
   ]
  },
  {
   "cell_type": "code",
   "execution_count": 50,
   "id": "c4551663-3d48-43f6-bb71-1454dfd4d8f9",
   "metadata": {},
   "outputs": [],
   "source": [
    "list_haha.clear()"
   ]
  },
  {
   "cell_type": "code",
   "execution_count": 51,
   "id": "f1e1b0cd-d0c7-47ac-9913-5f20e098dee0",
   "metadata": {},
   "outputs": [
    {
     "data": {
      "text/plain": [
       "[]"
      ]
     },
     "execution_count": 51,
     "metadata": {},
     "output_type": "execute_result"
    }
   ],
   "source": [
    "list_haha"
   ]
  },
  {
   "cell_type": "code",
   "execution_count": 54,
   "id": "dbde6cf8-7f76-4e38-9c98-662b15b487a5",
   "metadata": {},
   "outputs": [],
   "source": [
    "list_hehehehahahaha = []"
   ]
  },
  {
   "cell_type": "code",
   "execution_count": 55,
   "id": "0517cdb8-8065-4ae2-9610-b86b45171334",
   "metadata": {},
   "outputs": [],
   "source": [
    "list_hehehehahahaha = list_haha"
   ]
  },
  {
   "cell_type": "code",
   "execution_count": 56,
   "id": "00716dda-2bbd-4f0d-b5d5-c9e45f4659bf",
   "metadata": {},
   "outputs": [
    {
     "data": {
      "text/plain": [
       "['__add__',\n",
       " '__class__',\n",
       " '__class_getitem__',\n",
       " '__contains__',\n",
       " '__delattr__',\n",
       " '__delitem__',\n",
       " '__dir__',\n",
       " '__doc__',\n",
       " '__eq__',\n",
       " '__format__',\n",
       " '__ge__',\n",
       " '__getattribute__',\n",
       " '__getitem__',\n",
       " '__getstate__',\n",
       " '__gt__',\n",
       " '__hash__',\n",
       " '__iadd__',\n",
       " '__imul__',\n",
       " '__init__',\n",
       " '__init_subclass__',\n",
       " '__iter__',\n",
       " '__le__',\n",
       " '__len__',\n",
       " '__lt__',\n",
       " '__mul__',\n",
       " '__ne__',\n",
       " '__new__',\n",
       " '__reduce__',\n",
       " '__reduce_ex__',\n",
       " '__repr__',\n",
       " '__reversed__',\n",
       " '__rmul__',\n",
       " '__setattr__',\n",
       " '__setitem__',\n",
       " '__sizeof__',\n",
       " '__str__',\n",
       " '__subclasshook__',\n",
       " 'append',\n",
       " 'clear',\n",
       " 'copy',\n",
       " 'count',\n",
       " 'extend',\n",
       " 'index',\n",
       " 'insert',\n",
       " 'pop',\n",
       " 'remove',\n",
       " 'reverse',\n",
       " 'sort']"
      ]
     },
     "execution_count": 56,
     "metadata": {},
     "output_type": "execute_result"
    }
   ],
   "source": [
    "dir (list_hehehehahahaha)"
   ]
  },
  {
   "cell_type": "code",
   "execution_count": 57,
   "id": "91756e52-e574-46ea-986f-883a075a7129",
   "metadata": {},
   "outputs": [
    {
     "data": {
      "text/plain": [
       "'C:\\\\Users\\\\user1'"
      ]
     },
     "execution_count": 57,
     "metadata": {},
     "output_type": "execute_result"
    }
   ],
   "source": [
    "pwd\n"
   ]
  },
  {
   "cell_type": "code",
   "execution_count": null,
   "id": "54b5cfad-2c13-4098-99bc-0dc13fc6f84b",
   "metadata": {},
   "outputs": [],
   "source": []
  }
 ],
 "metadata": {
  "kernelspec": {
   "display_name": "Python 3 (ipykernel)",
   "language": "python",
   "name": "python3"
  },
  "language_info": {
   "codemirror_mode": {
    "name": "ipython",
    "version": 3
   },
   "file_extension": ".py",
   "mimetype": "text/x-python",
   "name": "python",
   "nbconvert_exporter": "python",
   "pygments_lexer": "ipython3",
   "version": "3.12.7"
  }
 },
 "nbformat": 4,
 "nbformat_minor": 5
}
